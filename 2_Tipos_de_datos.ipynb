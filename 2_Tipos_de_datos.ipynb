{
 "cells": [
  {
   "cell_type": "markdown",
   "metadata": {},
   "source": [
    "# Tipos de datos en Rust\n",
    "\n",
    "Rust es  un lenguaje de programación con un sistema de tipos estático y fuerte. Esto significa que el tipo de cada variable se conoce en tiempo de compilación y no puede cambiar durante la ejecución del programa.\n",
    "\n",
    "## Datos escalares\n",
    "\n",
    "### Enteros\n",
    "\n",
    "Representan números enteros, con o sin signo. Rust ofrece diferentes tipos de enteros según su tamaño en bits: i8, i16, i32, i64, isize (el tamaño depende de la arquitectura del sistema), u8, u16, u32, u64, usize."
   ]
  },
  {
   "cell_type": "code",
   "execution_count": null,
   "metadata": {
    "vscode": {
     "languageId": "rust"
    }
   },
   "outputs": [],
   "source": [
    "let x: i32 = 10; // Entero de 32 bits con signo\n",
    "let y: u32 = 100; // Entero de 32 bits sin signo"
   ]
  },
  {
   "cell_type": "markdown",
   "metadata": {},
   "source": [
    "### Flotantes\n",
    "\n",
    " Representan números decimales. Rust ofrece dos tipos de punto flotante: f32 (precisión simple) y f64 (precisión doble)."
   ]
  },
  {
   "cell_type": "code",
   "execution_count": null,
   "metadata": {
    "vscode": {
     "languageId": "rust"
    }
   },
   "outputs": [],
   "source": [
    "let pi: f64 = 3.14159; // Punto flotante de 64 bits\n",
    "let e: f32 = 2.71828; // Punto flotante de 32 bits"
   ]
  },
  {
   "cell_type": "markdown",
   "metadata": {},
   "source": [
    "### Booleanos\n",
    "\n",
    " Representan valores verdaderos (true) o falsos (false)."
   ]
  },
  {
   "cell_type": "code",
   "execution_count": null,
   "metadata": {
    "vscode": {
     "languageId": "rust"
    }
   },
   "outputs": [],
   "source": [
    "let verdadero: bool = true;\n",
    "let falso: bool = false;"
   ]
  },
  {
   "cell_type": "markdown",
   "metadata": {},
   "source": [
    "### Caracter\n",
    "\n",
    "Representan un solo carácter Unicode. Se definen entre comillas simples."
   ]
  },
  {
   "cell_type": "code",
   "execution_count": null,
   "metadata": {
    "vscode": {
     "languageId": "rust"
    }
   },
   "outputs": [],
   "source": [
    "let letra: char = 'a';\n",
    "let emoji: char = '';"
   ]
  },
  {
   "cell_type": "markdown",
   "metadata": {},
   "source": [
    "## Datos Compuestos\n",
    "\n",
    "### Tuplas\n",
    "\n",
    "Son colecciones ordenadas de valores de diferentes tipos. Se definen entre paréntesis y los valores se separan por comas."
   ]
  },
  {
   "cell_type": "code",
   "execution_count": null,
   "metadata": {
    "vscode": {
     "languageId": "rust"
    }
   },
   "outputs": [],
   "source": [
    "let tupla: (i32, &str, bool) = (10, \"Hola\", true);\n",
    "let (edad, mensaje, mayor_de_edad) = tupla; // Destructuración de la tupla\n",
    "println!(\"Tienes {} años y el mensaje es: {}\", edad, mensaje);"
   ]
  },
  {
   "cell_type": "markdown",
   "metadata": {},
   "source": [
    "### Arrays\n",
    "\n",
    "Son colecciones ordenadas de valores del mismo tipo. Se definen entre corchetes y los valores se separan por comas. Los arrays tienen una longitud fija, conocida en tiempo de compilación."
   ]
  },
  {
   "cell_type": "code",
   "execution_count": null,
   "metadata": {
    "vscode": {
     "languageId": "rust"
    }
   },
   "outputs": [],
   "source": [
    "let numeros: [i32; 5] = [1, 2, 3, 4, 5];\n",
    "let primero = numeros[0]; // Acceder al primer elemento del array"
   ]
  },
  {
   "cell_type": "markdown",
   "metadata": {},
   "source": [
    "### Vectores\n",
    "\n",
    "Son similares a los arrays, pero su longitud puede variar en tiempo de ejecución. Se definen utilizando el tipo Vec."
   ]
  },
  {
   "cell_type": "code",
   "execution_count": null,
   "metadata": {
    "vscode": {
     "languageId": "rust"
    }
   },
   "outputs": [],
   "source": [
    "let mut vector: Vec<i32> = Vec::new(); // Crear un vector vacío\n",
    "vector.push(1); // Añadir elementos al vector\n",
    "vector.push(2);"
   ]
  },
  {
   "cell_type": "markdown",
   "metadata": {},
   "source": [
    "## Otros tipos de datos\n",
    "\n",
    "Además de los tipos escalares y compuestos, Rust ofrece otros tipos de datos importantes:\n",
    "\n",
    "### Slices\n",
    "\n",
    "Son referencias a una sección de un array o vector. Permiten trabajar con partes de un array o vector sin copiar los datos."
   ]
  },
  {
   "cell_type": "code",
   "execution_count": null,
   "metadata": {
    "vscode": {
     "languageId": "rust"
    }
   },
   "outputs": [],
   "source": [
    "let slice: &[i32] = &numeros[1..3]; // Referencia a los elementos 2 y 3 del array numeros"
   ]
  },
  {
   "cell_type": "markdown",
   "metadata": {},
   "source": [
    "### Cadenas \n",
    "\n",
    "Rust ofrece dos tipos de cadenas: String (cadenas dinámicas y modificables) y &str (referencias a cadenas inmutables)."
   ]
  },
  {
   "cell_type": "code",
   "execution_count": null,
   "metadata": {
    "vscode": {
     "languageId": "rust"
    }
   },
   "outputs": [],
   "source": [
    "let cadena1: &str = \"Hola\"; // Cadena inmutable\n",
    "let mut cadena2: String = String::from(\"Mundo\"); // Cadena mutable\n",
    "cadena2.push_str(\"!\"); // Añadir texto a la cadena mutable"
   ]
  },
  {
   "cell_type": "markdown",
   "metadata": {},
   "source": [
    "### Punteros (*const T y *mut T)\n",
    "\n",
    "Permiten acceder a datos en memoria directamente. Se utilizan en programación de bajo nivel y requieren cuidado para evitar errores de seguridad.\n",
    "\n",
    "### Referencias (&T y &mut T)\n",
    "\n",
    "Permiten acceder a datos sin ser dueños de ellos. Se utilizan para evitar copias innecesarias de datos y para compartir datos entre diferentes partes del programa."
   ]
  }
 ],
 "metadata": {
  "language_info": {
   "name": "python"
  }
 },
 "nbformat": 4,
 "nbformat_minor": 2
}
