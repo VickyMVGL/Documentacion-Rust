{
 "cells": [
  {
   "cell_type": "markdown",
   "metadata": {},
   "source": [
    "# Entrada y salida de Datos\n",
    "\n",
    "La entrada y salida de datos son operaciones fundamentales en cualquier lenguaje de programación. Rust te permite interactuar con el usuario, leer datos de archivos y bases de datos, y mostrar resultados en la pantalla o enviarlos a otros sistemas.\n",
    "\n",
    "## Salida de datos\n",
    "\n",
    "### println!\n",
    "\n",
    "Imprime una cadena formateada en la consola. Es la forma más común y versátil de mostrar datos."
   ]
  },
  {
   "cell_type": "code",
   "execution_count": null,
   "metadata": {
    "vscode": {
     "languageId": "rust"
    }
   },
   "outputs": [],
   "source": [
    "println!(\"Hola, mundo!\");\n",
    "println!(\"El resultado es: {}\", resultado);\n",
    "println!(\"{}, {} y {}\", nombre, edad, altura);"
   ]
  },
  {
   "cell_type": "markdown",
   "metadata": {},
   "source": [
    "### print!\n",
    "\n",
    "Imprime una cadena en la consola sin agregar un salto de línea al final."
   ]
  },
  {
   "cell_type": "code",
   "execution_count": null,
   "metadata": {
    "vscode": {
     "languageId": "rust"
    }
   },
   "outputs": [],
   "source": [
    "print!(\"Hola, \");\n",
    "print!(\"mundo!\"); // Imprime \"Hola, mundo!\" en la misma línea"
   ]
  },
  {
   "cell_type": "markdown",
   "metadata": {},
   "source": [
    "### eprintln! y eprint!\n",
    "\n",
    "Funcionan de manera similar a println! y print!, pero imprimen en el flujo de error estándar (stderr) en lugar del flujo de salida estándar (stdout). Esto es útil para mostrar mensajes de error o depuración que no deben mezclarse con la salida normal del programa.\n"
   ]
  }
 ],
 "metadata": {
  "language_info": {
   "name": "python"
  }
 },
 "nbformat": 4,
 "nbformat_minor": 2
}
