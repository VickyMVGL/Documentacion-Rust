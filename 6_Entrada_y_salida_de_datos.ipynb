{
 "cells": [
  {
   "cell_type": "markdown",
   "metadata": {},
   "source": [
    "# Entrada y salida de Datos\n",
    "\n",
    "La entrada y salida de datos son operaciones fundamentales en cualquier lenguaje de programación. Rust te permite interactuar con el usuario, leer datos de archivos y bases de datos, y mostrar resultados en la pantalla o enviarlos a otros sistemas.\n",
    "\n",
    "## Salida de datos\n",
    "\n",
    "### println!\n",
    "\n",
    "Imprime una cadena formateada en la consola. Es la forma más común y versátil de mostrar datos."
   ]
  },
  {
   "cell_type": "code",
   "execution_count": null,
   "metadata": {
    "vscode": {
     "languageId": "rust"
    }
   },
   "outputs": [],
   "source": [
    "println!(\"Hola, mundo!\");\n",
    "println!(\"El resultado es: {}\", resultado);\n",
    "println!(\"{}, {} y {}\", nombre, edad, altura);"
   ]
  },
  {
   "cell_type": "markdown",
   "metadata": {},
   "source": [
    "### print!\n",
    "\n",
    "Imprime una cadena en la consola sin agregar un salto de línea al final."
   ]
  },
  {
   "cell_type": "code",
   "execution_count": null,
   "metadata": {
    "vscode": {
     "languageId": "rust"
    }
   },
   "outputs": [],
   "source": [
    "print!(\"Hola, \");\n",
    "print!(\"mundo!\"); // Imprime \"Hola, mundo!\" en la misma línea"
   ]
  },
  {
   "cell_type": "markdown",
   "metadata": {},
   "source": [
    "### eprintln! y eprint!\n",
    "\n",
    "Funcionan de manera similar a println! y print!, pero imprimen en el flujo de error estándar (stderr) en lugar del flujo de salida estándar (stdout). Esto es útil para mostrar mensajes de error o depuración que no deben mezclarse con la salida normal del programa.\n",
    "\n",
    "## Entrada de Datos\n",
    "\n",
    "### Lectura desde la consola\n",
    "\n",
    "Puedes leer datos desde la consola utilizando el módulo std::io"
   ]
  },
  {
   "cell_type": "code",
   "execution_count": null,
   "metadata": {
    "vscode": {
     "languageId": "rust"
    }
   },
   "outputs": [],
   "source": [
    "use std::io;\n",
    "\n",
    "fn main() {\n",
    "    let mut nombre = String::new(); // Crea una variable mutable para almacenar la entrada\n",
    "\n",
    "    println!(\"Ingresa tu nombre:\");\n",
    "\n",
    "    io::stdin().read_line(&mut nombre) // Lee una línea desde la consola y la guarda en 'nombre'\n",
    "        .expect(\"Error al leer la línea\"); // Maneja posibles errores\n",
    "\n",
    "    println!(\"Hola, {}!\", nombre.trim()); // Imprime el nombre (sin el salto de línea)\n",
    "}"
   ]
  },
  {
   "cell_type": "markdown",
   "metadata": {},
   "source": [
    "### Argumentos de línea de comandos\n",
    "\n",
    "Puedes acceder a los argumentos de línea de comandos utilizando la función std::env::args()."
   ]
  },
  {
   "cell_type": "code",
   "execution_count": null,
   "metadata": {
    "vscode": {
     "languageId": "rust"
    }
   },
   "outputs": [],
   "source": [
    "use std::env;\n",
    "\n",
    "fn main() {\n",
    "    let args: Vec<String> = env::args().collect(); // Recopila los argumentos en un vector de cadenas\n",
    "\n",
    "    if args.len() > 1 {\n",
    "        let nombre = &args[1]; // El primer argumento (después del nombre del programa)\n",
    "        println!(\"Hola, {}!\", nombre);\n",
    "    } else {\n",
    "        println!(\"No se proporcionó ningún nombre.\");\n",
    "    }\n",
    "}"
   ]
  },
  {
   "cell_type": "markdown",
   "metadata": {},
   "source": [
    "### Lectura y escritura de archivos\n",
    "\n",
    "Rust te permite leer y escribir datos en archivos utilizando el módulo std::fs."
   ]
  },
  {
   "cell_type": "code",
   "execution_count": null,
   "metadata": {
    "vscode": {
     "languageId": "rust"
    }
   },
   "outputs": [],
   "source": [
    "use std::fs::File;\n",
    "use std::io::prelude::*;\n",
    "\n",
    "fn main() {\n",
    "    // Lectura de un archivo\n",
    "    let mut archivo = File::open(\"datos.txt\").expect(\"No se pudo abrir el archivo\");\n",
    "    let mut contenido = String::new();\n",
    "    archivo.read_to_string(&mut contenido).expect(\"No se pudo leer el archivo\");\n",
    "    println!(\"Contenido del archivo:\\n{}\", contenido);\n",
    "\n",
    "    // Escritura en un archivo\n",
    "    let mut archivo = File::create(\"resultados.txt\").expect(\"No se pudo crear el archivo\");\n",
    "    archivo.write_all(b\"El resultado es: 10\").expect(\"No se pudo escribir en el archivo\");\n",
    "}"
   ]
  }
 ],
 "metadata": {
  "language_info": {
   "name": "python"
  }
 },
 "nbformat": 4,
 "nbformat_minor": 2
}
