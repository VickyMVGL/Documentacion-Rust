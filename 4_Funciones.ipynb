{
 "cells": [
  {
   "cell_type": "markdown",
   "metadata": {},
   "source": [
    "# Funciones en Rust\n",
    "\n",
    "Las funciones son bloques de código reutilizables que realizan una tarea específica. Las funciones te permiten organizar tu código, hacerlo más legible y evitar la repetición de código. \n",
    "\n",
    "## Definicion de funciones\n",
    "\n",
    "Para definir una función en Rust, utiliza la siguiente sintaxis:"
   ]
  },
  {
   "cell_type": "code",
   "execution_count": null,
   "metadata": {
    "vscode": {
     "languageId": "rust"
    }
   },
   "outputs": [],
   "source": [
    "fn nombre_de_la_funcion(parametro1: tipo1, parametro2: tipo2, ...) -> tipo_de_retorno {\n",
    "    // Código de la función\n",
    "    return valor_de_retorno; // Opcional\n",
    "}"
   ]
  },
  {
   "cell_type": "markdown",
   "metadata": {},
   "source": [
    "- **fn:** Palabra clave para definir una función.\n",
    "nombre_de_la_funcion: Nombre de la función (debe seguir las reglas de nomenclatura de variables).\n",
    "\n",
    "- **parametro1:** tipo1, parametro2: tipo2, ...: Lista de parámetros que la función recibe, junto con sus tipos.\n",
    "\n",
    "- **-> tipo_de_retorno:** Tipo de dato que la función devuelve (opcional). Si no se especifica, la función no devuelve ningún valor (devuelve () o \"unidad\").\n",
    "\n",
    "- **// Código de la función:** Bloque de código que se ejecuta cuando se llama a la función.\n",
    "\n",
    "- **return valor_de_retorno;:** Valor que la función devuelve (opcional).\n",
    "\n",
    "## Como llamar a la funcion\n",
    "\n",
    "Para llamar a una función, simplemente escribe su nombre seguido de paréntesis y, si es necesario, los argumentos que le quieres pasar:\n"
   ]
  },
  {
   "cell_type": "code",
   "execution_count": null,
   "metadata": {
    "vscode": {
     "languageId": "rust"
    }
   },
   "outputs": [],
   "source": [
    "nombre_de_la_funcion(argumento1, argumento2, ...);"
   ]
  },
  {
   "cell_type": "markdown",
   "metadata": {},
   "source": [
    "## Ejemplos de funciones"
   ]
  },
  {
   "cell_type": "code",
   "execution_count": null,
   "metadata": {
    "vscode": {
     "languageId": "rust"
    }
   },
   "outputs": [],
   "source": [
    "// Función que suma dos números enteros y devuelve el resultado\n",
    "fn sumar(num1: i32, num2: i32) -> i32 {\n",
    "    let suma = num1 + num2;\n",
    "    return suma;\n",
    "}\n",
    "\n",
    "// Función que imprime un saludo personalizado\n",
    "fn saludar(nombre: &str) {\n",
    "    println!(\"Hola, {}!\", nombre);\n",
    "}\n",
    "\n",
    "fn main() {\n",
    "    // Llamada a la función sumar\n",
    "    let resultado = sumar(5, 3);\n",
    "    println!(\"El resultado de la suma es: {}\", resultado); // Imprime 8\n",
    "\n",
    "    // Llamada a la función saludar\n",
    "    saludar(\"Juan\"); // Imprime \"Hola, Juan!\"\n",
    "}"
   ]
  },
  {
   "cell_type": "markdown",
   "metadata": {},
   "source": [
    "## Características importantes de las funciones en Rust\n",
    "\n",
    "- **Tipado estricto:** Los tipos de los parámetros y el valor de retorno deben especificarse explícitamente. Esto ayuda a prevenir errores y hace que el código sea más legible.\n",
    "\n",
    "- **Inmutabilidad por defecto:** Los parámetros de una función son inmutables por defecto. Si necesitas modificar un parámetro dentro de la función, debes declararlo como mutable (&mut).\n",
    "\n",
    "- **Propiedad y préstamo:** Rust utiliza un sistema de propiedad y préstamo para gestionar la memoria de forma segura y eficiente. Esto se aplica también a las funciones y sus parámetros.\n",
    "\n",
    "- **Funciones como ciudadanos de primera clase:** Las funciones en Rust pueden ser pasadas como argumentos a otras funciones, devueltas por otras funciones y asignadas a variables. Esto permite crear código más flexible y modular.\n",
    "\n",
    "- **Closures:** Rust ofrece closures, que son funciones anónimas que pueden capturar variables de su entorno."
   ]
  }
 ],
 "metadata": {
  "language_info": {
   "name": "python"
  }
 },
 "nbformat": 4,
 "nbformat_minor": 2
}
