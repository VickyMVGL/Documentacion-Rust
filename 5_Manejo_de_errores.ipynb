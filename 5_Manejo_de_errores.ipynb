{
 "cells": [
  {
   "cell_type": "markdown",
   "metadata": {},
   "source": [
    "# Manejo de errores\n",
    "\n",
    "El manejo de errores es un aspecto fundamental de la programación en Rust. Rust se distingue por su enfoque en la seguridad y la prevención de errores, y esto se refleja en su sistema de manejo de errores.\n",
    "\n",
    "## Tipos de errores en Rust\n",
    "\n",
    "Rust clasifica los errores en dos categorías principales:\n",
    "\n",
    "### Errores recuperables\n",
    "\n",
    "Son errores que el programa puede manejar y de los que se puede recuperar. Por ejemplo, un archivo no encontrado o un error de red.\n",
    "\n",
    "### Errores irrecuperables\n",
    "\n",
    "Son errores que impiden que el programa continúe su ejecución de forma segura. Por ejemplo, un acceso a memoria inválido o una división por cero.\n",
    "\n",
    "## Mecanismos para el manejo de errores\n",
    "\n",
    "### Panic!\n",
    "\n",
    "La macro panic! se utiliza para señalar un error irrecuperable. Cuando ocurre un panic!, el programa termina su ejecución e imprime un mensaje de error.\n"
   ]
  },
  {
   "cell_type": "code",
   "execution_count": null,
   "metadata": {
    "vscode": {
     "languageId": "plaintext"
    }
   },
   "outputs": [],
   "source": [
    "fn main() {\n",
    "    panic!(\"Ha ocurrido un error irrecuperable.\");\n",
    "}"
   ]
  },
  {
   "cell_type": "markdown",
   "metadata": {},
   "source": [
    "### Result\n",
    "\n",
    "El tipo Result se utiliza para representar el resultado de una operación que puede fallar. Result tiene dos variantes:\n",
    "\n",
    "**Ok(T):** Indica que la operación se ha realizado correctamente y contiene un valor de tipo T.\n",
    "\n",
    "**Err(E):** Indica que la operación ha fallado y contiene un valor de tipo E que representa el error."
   ]
  },
  {
   "cell_type": "code",
   "execution_count": null,
   "metadata": {
    "vscode": {
     "languageId": "plaintext"
    }
   },
   "outputs": [],
   "source": [
    "use std::fs::File;\n",
    "\n",
    "fn main() {\n",
    "    let archivo = File::open(\"archivo.txt\");\n",
    "\n",
    "    match archivo {\n",
    "        Ok(archivo) => {\n",
    "            // El archivo se ha abierto correctamente\n",
    "            println!(\"Archivo abierto.\");\n",
    "        }\n",
    "        Err(error) => {\n",
    "            // Ha ocurrido un error al abrir el archivo\n",
    "            println!(\"Error al abrir el archivo: {}\", error);\n",
    "        }\n",
    "    }\n",
    "}"
   ]
  },
  {
   "cell_type": "markdown",
   "metadata": {},
   "source": [
    "## Buenas Practicas para el manejo de errores\n",
    "\n",
    "- **Utiliza Result para errores recuperables:** Siempre que una operación pueda fallar, utiliza el tipo Result para representar el resultado. Esto obliga al código que llama a la función a manejar el posible error.\n",
    "\n",
    "- **Maneja los errores de forma adecuada:** No ignores los errores. Decide si quieres propagar el error a la función que llama, intentar recuperarte del error o terminar el programa con un panic!.\n",
    "\n",
    "- **Proporciona mensajes de error claros y \n",
    "útiles:** Los mensajes de error deben ser informativos y ayudar a diagnosticar el problema.\n",
    "\n",
    "- **Utiliza un sistema de registro de errores:** En aplicaciones complejas, es recomendable utilizar un sistema de registro de errores para guardar información sobre los errores que ocurren.\n"
   ]
  }
 ],
 "metadata": {
  "language_info": {
   "name": "python"
  }
 },
 "nbformat": 4,
 "nbformat_minor": 2
}
