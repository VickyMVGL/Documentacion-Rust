{
 "cells": [
  {
   "cell_type": "markdown",
   "metadata": {},
   "source": [
    "# Estructuras de control\n",
    "\n",
    "permiten controlar el flujo de ejecución de tu programa. Esto significa que puedes decidir qué partes del código se ejecutan y en qué orden\n",
    "\n",
    "## Condicionales\n",
    "\n",
    "Las condicionales te permiten ejecutar un bloque de código solo si se cumple una determinada condición. \n",
    "\n",
    "### If\n",
    "\n",
    " La estructura if ejecuta un bloque de código si la condición es verdadera.\n"
   ]
  },
  {
   "cell_type": "code",
   "execution_count": null,
   "metadata": {
    "vscode": {
     "languageId": "rust"
    }
   },
   "outputs": [],
   "source": [
    "let edad = 18;\n",
    "\n",
    "if edad >= 18 {\n",
    "    println!(\"Eres mayor de edad.\");\n",
    "}"
   ]
  },
  {
   "cell_type": "markdown",
   "metadata": {},
   "source": [
    "### Else\n",
    "\n",
    "La estructura else ejecuta un bloque de código si la condición es falsa."
   ]
  },
  {
   "cell_type": "code",
   "execution_count": null,
   "metadata": {
    "vscode": {
     "languageId": "rust"
    }
   },
   "outputs": [],
   "source": [
    "let edad = 16;\n",
    "\n",
    "if edad >= 18 {\n",
    "    println!(\"Eres mayor de edad.\");\n",
    "} else {\n",
    "    println!(\"Eres menor de edad.\");\n",
    "}"
   ]
  },
  {
   "cell_type": "markdown",
   "metadata": {},
   "source": [
    "### Else if\n",
    "\n",
    "La estructura else if te permite evaluar múltiples condiciones."
   ]
  },
  {
   "cell_type": "code",
   "execution_count": null,
   "metadata": {
    "vscode": {
     "languageId": "rust"
    }
   },
   "outputs": [],
   "source": [
    "let calificacion = 7;\n",
    "\n",
    "if calificacion >= 9 {\n",
    "    println!(\"Excelente\");\n",
    "} else if calificacion >= 7 {\n",
    "    println!(\"Aprobado\");\n",
    "} else {\n",
    "    println!(\"Reprobado\");\n",
    "}"
   ]
  },
  {
   "cell_type": "markdown",
   "metadata": {},
   "source": [
    "## Bucles\n",
    "\n",
    "permiten repetir un bloque de código varias veces.\n",
    "\n",
    "### loop\n",
    "\n",
    "El bucle loop se repite indefinidamente hasta que se encuentra una sentencia break."
   ]
  },
  {
   "cell_type": "code",
   "execution_count": null,
   "metadata": {
    "vscode": {
     "languageId": "rust"
    }
   },
   "outputs": [],
   "source": [
    "loop {\n",
    "    println!(\"Bucle infinito.\");\n",
    "    break; // Salir del bucle\n",
    "}"
   ]
  },
  {
   "cell_type": "markdown",
   "metadata": {},
   "source": [
    "### While\n",
    "\n",
    " El bucle while se repite mientras se cumpla una condición.\n"
   ]
  },
  {
   "cell_type": "code",
   "execution_count": null,
   "metadata": {
    "vscode": {
     "languageId": "rust"
    }
   },
   "outputs": [],
   "source": [
    "let mut i = 0;\n",
    "\n",
    "while i < 10 {\n",
    "    println!(\"{}\", i);\n",
    "    i += 1;\n",
    "}"
   ]
  },
  {
   "cell_type": "markdown",
   "metadata": {},
   "source": [
    "### For\n",
    "\n",
    "El bucle for se utiliza para iterar sobre una colección de valores, como un array, un vector o un rango."
   ]
  },
  {
   "cell_type": "code",
   "execution_count": null,
   "metadata": {
    "vscode": {
     "languageId": "rust"
    }
   },
   "outputs": [],
   "source": [
    "let colores = vec![\"rojo\", \"verde\", \"azul\"];\n",
    "\n",
    "for color in colores {\n",
    "    println!(\"{}\", color);\n",
    "}\n",
    "\n",
    "for i in 0..10 {\n",
    "    println!(\"{}\", i);\n",
    "}"
   ]
  },
  {
   "cell_type": "markdown",
   "metadata": {},
   "source": [
    "## Coincidencia de Patrones\n",
    "\n",
    "La coincidencia de patrones te permite comparar un valor con múltiples patrones y ejecutar un bloque de código diferente para cada patrón coincidente. Rust ofrece la estructura match para realizar la coincidencia de patrones."
   ]
  },
  {
   "cell_type": "code",
   "execution_count": null,
   "metadata": {
    "vscode": {
     "languageId": "rust"
    }
   },
   "outputs": [],
   "source": [
    "let dia = \"lunes\";\n",
    "\n",
    "match dia {\n",
    "    \"lunes\" => println!(\"Es lunes.\"),\n",
    "    \"martes\" => println!(\"Es martes.\"),\n",
    "    _ => println!(\"Es otro día.\"), // Patrón comodín para cualquier otro valor\n",
    "}"
   ]
  },
  {
   "cell_type": "markdown",
   "metadata": {},
   "source": [
    "## Sentencias de control Adicionales\n",
    "\n",
    "### break\n",
    "\n",
    "Se utiliza para salir de un bucle."
   ]
  },
  {
   "cell_type": "code",
   "execution_count": null,
   "metadata": {
    "vscode": {
     "languageId": "rust"
    }
   },
   "outputs": [],
   "source": [
    "for i in 0..10 {\n",
    "    if i == 5 {\n",
    "        break; // Salir del bucle cuando i es igual a 5\n",
    "    }\n",
    "    println!(\"{}\", i);\n",
    "}"
   ]
  },
  {
   "cell_type": "markdown",
   "metadata": {},
   "source": [
    "### Continue\n",
    "\n",
    "La sentencia continue se utiliza para saltar a la siguiente iteración de un bucle."
   ]
  },
  {
   "cell_type": "code",
   "execution_count": null,
   "metadata": {
    "vscode": {
     "languageId": "rust"
    }
   },
   "outputs": [],
   "source": [
    "for i in 0..10 {\n",
    "    if i % 2 == 0 {\n",
    "        continue; // Saltar a la siguiente iteración si i es par\n",
    "    }\n",
    "    println!(\"{}\", i);\n",
    "}"
   ]
  }
 ],
 "metadata": {
  "language_info": {
   "name": "python"
  }
 },
 "nbformat": 4,
 "nbformat_minor": 2
}
