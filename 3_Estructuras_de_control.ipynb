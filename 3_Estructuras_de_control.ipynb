{
 "cells": [
  {
   "cell_type": "markdown",
   "metadata": {},
   "source": [
    "# Estructuras de control\n",
    "\n",
    "permiten controlar el flujo de ejecución de tu programa. Esto significa que puedes decidir qué partes del código se ejecutan y en qué orden\n",
    "\n",
    "## Condicionales\n",
    "\n",
    "Las condicionales te permiten ejecutar un bloque de código solo si se cumple una determinada condición. \n",
    "\n",
    "### If\n",
    "\n",
    " La estructura if ejecuta un bloque de código si la condición es verdadera.\n"
   ]
  },
  {
   "cell_type": "code",
   "execution_count": null,
   "metadata": {
    "vscode": {
     "languageId": "rust"
    }
   },
   "outputs": [],
   "source": [
    "let edad = 18;\n",
    "\n",
    "if edad >= 18 {\n",
    "    println!(\"Eres mayor de edad.\");\n",
    "}"
   ]
  },
  {
   "cell_type": "markdown",
   "metadata": {},
   "source": [
    "### Else\n",
    "\n",
    "La estructura else ejecuta un bloque de código si la condición es falsa."
   ]
  },
  {
   "cell_type": "code",
   "execution_count": null,
   "metadata": {
    "vscode": {
     "languageId": "rust"
    }
   },
   "outputs": [],
   "source": [
    "let edad = 16;\n",
    "\n",
    "if edad >= 18 {\n",
    "    println!(\"Eres mayor de edad.\");\n",
    "} else {\n",
    "    println!(\"Eres menor de edad.\");\n",
    "}"
   ]
  },
  {
   "cell_type": "markdown",
   "metadata": {},
   "source": [
    "### Else if\n",
    "\n",
    "La estructura else if te permite evaluar múltiples condiciones."
   ]
  },
  {
   "cell_type": "code",
   "execution_count": null,
   "metadata": {
    "vscode": {
     "languageId": "rust"
    }
   },
   "outputs": [],
   "source": [
    "let calificacion = 7;\n",
    "\n",
    "if calificacion >= 9 {\n",
    "    println!(\"Excelente\");\n",
    "} else if calificacion >= 7 {\n",
    "    println!(\"Aprobado\");\n",
    "} else {\n",
    "    println!(\"Reprobado\");\n",
    "}"
   ]
  },
  {
   "cell_type": "markdown",
   "metadata": {},
   "source": []
  }
 ],
 "metadata": {
  "language_info": {
   "name": "python"
  }
 },
 "nbformat": 4,
 "nbformat_minor": 2
}
