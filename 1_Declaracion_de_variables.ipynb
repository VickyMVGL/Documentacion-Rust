{
 "cells": [
  {
   "cell_type": "markdown",
   "metadata": {},
   "source": [
    "# Declaracion de variables\n",
    "\n",
    "En Rust, las variables se declaran utilizando la palabra clave let. La sintaxis básica es la siguiente:"
   ]
  },
  {
   "cell_type": "code",
   "execution_count": null,
   "metadata": {
    "vscode": {
     "languageId": "plaintext"
    }
   },
   "outputs": [],
   "source": [
    "let nombre_de_la_variable = valor;"
   ]
  },
  {
   "cell_type": "markdown",
   "metadata": {},
   "source": [
    "## Características importantes\n",
    "\n",
    "- **Inmutabilidad por defecto:** Las variables en Rust son inmutables por defecto, lo que significa que una vez que se les asigna un valor, no se puede cambiar. Si necesitas que una variable sea mutable, debes agregar la palabra clave mut antes del nombre de la variable:"
   ]
  },
  {
   "cell_type": "code",
   "execution_count": null,
   "metadata": {
    "vscode": {
     "languageId": "plaintext"
    }
   },
   "outputs": [],
   "source": [
    "let mut x = 5;\n",
    "x = 10; // Esto es posible porque x es mutable"
   ]
  },
  {
   "cell_type": "markdown",
   "metadata": {},
   "source": [
    "- **Inferencia de tipos:** Rust infiere el tipo de la variable a partir del valor que se le asigna. No es necesario especificar el tipo de forma explícita, a menos que sea ambiguo o quieras especificarlo por alguna razón:"
   ]
  },
  {
   "cell_type": "code",
   "execution_count": null,
   "metadata": {
    "vscode": {
     "languageId": "plaintext"
    }
   },
   "outputs": [],
   "source": [
    "let x = 5; // Rust infiere que x es de tipo i32 (entero de 32 bits)\n",
    "let y: f64 = 3.14; // Especificamos explícitamente que y es de tipo f64 (punto flotante de 64 bits)"
   ]
  },
  {
   "cell_type": "markdown",
   "metadata": {},
   "source": [
    "- **Shadowing:** Puedes declarar una nueva variable con el mismo nombre que una variable existente. La nueva variable \"eclipsa\" a la variable anterior en el ámbito actual. Esto se conoce como \"shadowing\" y puede ser útil para cambiar el tipo de una variable o realizar transformaciones en ella:"
   ]
  },
  {
   "cell_type": "code",
   "execution_count": null,
   "metadata": {
    "vscode": {
     "languageId": "plaintext"
    }
   },
   "outputs": [],
   "source": [
    "let x = 5;\n",
    "let x = x + 1; // Shadowing: x ahora vale 6\n",
    "let x = x * 2; // Shadowing: x ahora vale 12"
   ]
  },
  {
   "cell_type": "markdown",
   "metadata": {},
   "source": [
    "## Ejemplo de Declaracion de variables"
   ]
  },
  {
   "cell_type": "code",
   "execution_count": null,
   "metadata": {
    "vscode": {
     "languageId": "plaintext"
    }
   },
   "outputs": [],
   "source": [
    "fn main() {\n",
    "    let nombre = \"Juan\"; // Variable inmutable de tipo &str (cadena de texto)\n",
    "    let mut edad = 30; // Variable mutable de tipo i32\n",
    "    let altura: f32 = 1.85; // Variable inmutable de tipo f32\n",
    "\n",
    "    println!(\"Hola, {}! Tienes {} años y mides {} metros.\", nombre, edad, altura);\n",
    "\n",
    "    edad = 31; // Modificamos la variable mutable edad\n",
    "    println!(\"El año que viene tendrás {} años.\", edad);\n",
    "}"
   ]
  }
 ],
 "metadata": {
  "language_info": {
   "name": "python"
  }
 },
 "nbformat": 4,
 "nbformat_minor": 2
}
